{
 "cells": [
  {
   "cell_type": "code",
   "execution_count": null,
   "id": "b0cfae14",
   "metadata": {},
   "outputs": [],
   "source": [
    "%pip install selenium\n",
    "%pip install webdriver-manager"
   ]
  },
  {
   "cell_type": "code",
   "execution_count": null,
   "id": "e2510325",
   "metadata": {},
   "outputs": [],
   "source": [
    "from selenium import webdriver\n",
    "from selenium.webdriver.chrome.options import Options\n",
    "from selenium.webdriver.common.by import By\n",
    "from selenium.webdriver.support.ui import WebDriverWait\n",
    "from selenium.webdriver.support import expected_conditions as EC\n",
    "from selenium.webdriver.chrome.options import Options\n",
    "\n",
    "options = Options()\n",
    "options.add_argument(\"start-maximized\")\n",
    "options.add_argument(\"user-agent=Mozilla/5.0 (Windows NT 10.0; Win64; x64)...\")\n",
    "\n",
    "options.add_argument(\"--headless\")\n",
    "options.add_argument(\"--no-sandbox\")\n",
    "options.add_argument(\"--disable-dev-shm-usage\")\n",
    "\n",
    "# Initialize the driver\n",
    "driver = webdriver.Chrome(options=options)\n",
    "\n",
    "# Load the Myntra women's dresses page\n",
    "url = \"https://www.myntra.com/women-dresses\"\n",
    "driver.get(url)\n",
    "driver.execute_script(\"window.scrollTo(0, document.body.scrollHeight);\")\n",
    "time.sleep(5)\n",
    "\n",
    "# Optional: wait a bit for dynamic content to load\n",
    "import time\n",
    "time.sleep(8)\n",
    "\n",
    "# Grab the HTML\n",
    "WebDriverWait(driver, 10).until(\n",
    "    EC.presence_of_element_located((By.CLASS_NAME, \"product-base\"))\n",
    ")\n",
    "html = driver.page_source\n"
   ]
  },
  {
   "cell_type": "code",
   "execution_count": null,
   "id": "11a12e84",
   "metadata": {},
   "outputs": [],
   "source": [
    "from bs4 import BeautifulSoup\n",
    "\n",
    "# Parse the HTML\n",
    "soup = BeautifulSoup(html, 'html.parser')"
   ]
  },
  {
   "cell_type": "code",
   "execution_count": null,
   "id": "ed8252a9",
   "metadata": {},
   "outputs": [],
   "source": [
    "products = soup.find_all('li', {'class': 'product-base'})\n",
    "print(f\"Found {len(products)} products\")\n",
    "\n",
    "\n",
    "# List to store scraped data\n",
    "data = []\n",
    "\n",
    "for item in products:\n",
    "    brand = item.find('h3', {'class': 'product-brand'}).text.strip()\n",
    "    name = item.find('h4', {'class': 'product-product'}).text.strip()\n",
    "\n",
    "    # Finding Original and Discounted Prices\n",
    "    price_elements = item.find('div', {'class': 'product-price'})\n",
    "    prices = price_elements.find_all('span')\n",
    "    discounted_price = prices[0].text.strip() if len(prices) > 0 else None\n",
    "    original_price = prices[1].text.strip() if len(prices) > 1 else None\n",
    "    discount = prices[2].text.strip() if len(prices) > 2 else None\n",
    "\n",
    "    # Product Link\n",
    "    link_tag = item.find('a', href = True)\n",
    "    product_link = \"https://www.myntra.com\" + link_tag['href'] if link_tag else None\n",
    "\n",
    "    data.append({\n",
    "        'Brand': brand,\n",
    "        'Name': name,\n",
    "        'Discounted Price': discounted_price,\n",
    "        'Original Price': original_price,\n",
    "        'Discount': discount,\n",
    "        'Link': product_link\n",
    "    })"
   ]
  },
  {
   "cell_type": "code",
   "execution_count": null,
   "id": "68db0e55",
   "metadata": {},
   "outputs": [],
   "source": [
    "import pandas as pd\n",
    "\n",
    "df = pd.DataFrame(data)\n",
    "print(df.head())"
   ]
  },
  {
   "cell_type": "code",
   "execution_count": null,
   "id": "1b540026",
   "metadata": {},
   "outputs": [],
   "source": [
    "# Strip extra spaces from column names\n",
    "df.columns = df.columns.str.strip()\n",
    "\n",
    "# Split 'Discounted Price' if it has two prices jammed together\n",
    "def extract_prices(price_str):\n",
    "    import re\n",
    "    if pd.isna(price_str):\n",
    "        return None, None\n",
    "    prices = re.findall(r'Rs\\.?\\s?(\\d+)', price_str)\n",
    "    if len(prices) == 2:\n",
    "        return int(prices[0]), int(prices[1])\n",
    "    elif len(prices) == 1:\n",
    "        return int(prices[0]), None\n",
    "    else:\n",
    "        return None, None\n",
    "\n",
    "df[['Discounted_Price', 'Original_Price']] = df['Discounted Price'].apply(\n",
    "    lambda x: pd.Series(extract_prices(x))\n",
    ")\n",
    "\n",
    "# Fix broken URLs (missing slash after domain)\n",
    "df['Link'] = df['Link'].str.replace(\"www.myntra.comdresses\", \"www.myntra.com/dresses\")\n",
    "\n",
    "# Clean 'Discount' column if needed\n",
    "df['Discount_Percentage'] = (\n",
    "    (df['Original_Price'] - df['Discounted_Price']) / df['Original_Price'] * 100\n",
    ").round(1)\n",
    "\n",
    "# Drop old columns\n",
    "df = df.drop(columns=['Discounted Price', 'Original Price', 'Discount'])\n",
    "\n",
    "# Optional: drop rows with missing prices\n",
    "df = df.dropna(subset=['Discounted_Price'])\n",
    "\n",
    "# Reset index\n",
    "df = df.reset_index(drop=True)\n",
    "\n",
    "print(df.head())\n"
   ]
  },
  {
   "cell_type": "code",
   "execution_count": null,
   "id": "f065afc1",
   "metadata": {},
   "outputs": [],
   "source": [
    "df.to_csv(\"/Users/miaalex/Desktop/indian-fashion-trends/data/myntra_womens_dresses.csv\", index=False)\n"
   ]
  }
 ],
 "metadata": {
  "language_info": {
   "name": "python"
  }
 },
 "nbformat": 4,
 "nbformat_minor": 5
}
