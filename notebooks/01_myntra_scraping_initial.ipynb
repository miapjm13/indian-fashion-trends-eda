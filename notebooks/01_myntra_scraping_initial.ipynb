{
 "cells": [
  {
   "cell_type": "markdown",
   "id": "a6e89f24",
   "metadata": {},
   "source": [
    "Installing Dependencies"
   ]
  },
  {
   "cell_type": "code",
   "execution_count": 8,
   "id": "3aff4915",
   "metadata": {},
   "outputs": [
    {
     "name": "stdout",
     "output_type": "stream",
     "text": [
      "Requirement already satisfied: selenium in /opt/anaconda3/envs/project/lib/python3.12/site-packages (4.34.2)\n",
      "Requirement already satisfied: urllib3~=2.5.0 in /opt/anaconda3/envs/project/lib/python3.12/site-packages (from urllib3[socks]~=2.5.0->selenium) (2.5.0)\n",
      "Requirement already satisfied: trio~=0.30.0 in /opt/anaconda3/envs/project/lib/python3.12/site-packages (from selenium) (0.30.0)\n",
      "Requirement already satisfied: trio-websocket~=0.12.2 in /opt/anaconda3/envs/project/lib/python3.12/site-packages (from selenium) (0.12.2)\n",
      "Requirement already satisfied: certifi>=2025.6.15 in /opt/anaconda3/envs/project/lib/python3.12/site-packages (from selenium) (2025.8.3)\n",
      "Requirement already satisfied: typing_extensions~=4.14.0 in /opt/anaconda3/envs/project/lib/python3.12/site-packages (from selenium) (4.14.1)\n",
      "Requirement already satisfied: websocket-client~=1.8.0 in /opt/anaconda3/envs/project/lib/python3.12/site-packages (from selenium) (1.8.0)\n",
      "Requirement already satisfied: attrs>=23.2.0 in /opt/anaconda3/envs/project/lib/python3.12/site-packages (from trio~=0.30.0->selenium) (24.3.0)\n",
      "Requirement already satisfied: sortedcontainers in /opt/anaconda3/envs/project/lib/python3.12/site-packages (from trio~=0.30.0->selenium) (2.4.0)\n",
      "Requirement already satisfied: idna in /opt/anaconda3/envs/project/lib/python3.12/site-packages (from trio~=0.30.0->selenium) (3.7)\n",
      "Requirement already satisfied: outcome in /opt/anaconda3/envs/project/lib/python3.12/site-packages (from trio~=0.30.0->selenium) (1.3.0.post0)\n",
      "Requirement already satisfied: sniffio>=1.3.0 in /opt/anaconda3/envs/project/lib/python3.12/site-packages (from trio~=0.30.0->selenium) (1.3.0)\n",
      "Requirement already satisfied: wsproto>=0.14 in /opt/anaconda3/envs/project/lib/python3.12/site-packages (from trio-websocket~=0.12.2->selenium) (1.2.0)\n",
      "Requirement already satisfied: pysocks!=1.5.7,<2.0,>=1.5.6 in /opt/anaconda3/envs/project/lib/python3.12/site-packages (from urllib3[socks]~=2.5.0->selenium) (1.7.1)\n",
      "Requirement already satisfied: h11<1,>=0.9.0 in /opt/anaconda3/envs/project/lib/python3.12/site-packages (from wsproto>=0.14->trio-websocket~=0.12.2->selenium) (0.14.0)\n",
      "Note: you may need to restart the kernel to use updated packages.\n",
      "Requirement already satisfied: webdriver-manager in /opt/anaconda3/envs/project/lib/python3.12/site-packages (4.0.2)\n",
      "Requirement already satisfied: requests in /opt/anaconda3/envs/project/lib/python3.12/site-packages (from webdriver-manager) (2.32.3)\n",
      "Requirement already satisfied: python-dotenv in /opt/anaconda3/envs/project/lib/python3.12/site-packages (from webdriver-manager) (1.1.1)\n",
      "Requirement already satisfied: packaging in /opt/anaconda3/envs/project/lib/python3.12/site-packages (from webdriver-manager) (24.2)\n",
      "Requirement already satisfied: charset-normalizer<4,>=2 in /opt/anaconda3/envs/project/lib/python3.12/site-packages (from requests->webdriver-manager) (3.3.2)\n",
      "Requirement already satisfied: idna<4,>=2.5 in /opt/anaconda3/envs/project/lib/python3.12/site-packages (from requests->webdriver-manager) (3.7)\n",
      "Requirement already satisfied: urllib3<3,>=1.21.1 in /opt/anaconda3/envs/project/lib/python3.12/site-packages (from requests->webdriver-manager) (2.5.0)\n",
      "Requirement already satisfied: certifi>=2017.4.17 in /opt/anaconda3/envs/project/lib/python3.12/site-packages (from requests->webdriver-manager) (2025.8.3)\n",
      "Note: you may need to restart the kernel to use updated packages.\n"
     ]
    }
   ],
   "source": [
    "%pip install selenium\n",
    "%pip install webdriver-manager"
   ]
  },
  {
   "cell_type": "markdown",
   "id": "8ed7ed88",
   "metadata": {},
   "source": [
    "Setting Up Selenium"
   ]
  },
  {
   "cell_type": "code",
   "execution_count": 9,
   "id": "d70a5887",
   "metadata": {},
   "outputs": [
    {
     "name": "stdout",
     "output_type": "stream",
     "text": [
      "Scraping category: women-dresses from https://www.myntra.com/women-dresses\n",
      "Scraping category: women-kurtis from https://www.myntra.com/women-kurtis\n"
     ]
    },
    {
     "ename": "TimeoutException",
     "evalue": "Message: \nStacktrace:\n0   chromedriver                        0x0000000104994c20 cxxbridge1$str$ptr + 2747652\n1   chromedriver                        0x000000010498cb20 cxxbridge1$str$ptr + 2714628\n2   chromedriver                        0x00000001044d50c8 cxxbridge1$string$len + 90536\n3   chromedriver                        0x000000010451c618 cxxbridge1$string$len + 382712\n4   chromedriver                        0x000000010455d99c cxxbridge1$string$len + 649852\n5   chromedriver                        0x0000000104510934 cxxbridge1$string$len + 334356\n6   chromedriver                        0x000000010495788c cxxbridge1$str$ptr + 2496880\n7   chromedriver                        0x000000010495aab8 cxxbridge1$str$ptr + 2509724\n8   chromedriver                        0x0000000104938510 cxxbridge1$str$ptr + 2369012\n9   chromedriver                        0x000000010495b360 cxxbridge1$str$ptr + 2511940\n10  chromedriver                        0x0000000104929610 cxxbridge1$str$ptr + 2307828\n11  chromedriver                        0x000000010497b230 cxxbridge1$str$ptr + 2642708\n12  chromedriver                        0x000000010497b3bc cxxbridge1$str$ptr + 2643104\n13  chromedriver                        0x000000010498c76c cxxbridge1$str$ptr + 2713680\n14  libsystem_pthread.dylib             0x0000000185bbfc0c _pthread_start + 136\n15  libsystem_pthread.dylib             0x0000000185bbab80 thread_start + 8\n",
     "output_type": "error",
     "traceback": [
      "\u001b[0;31m---------------------------------------------------------------------------\u001b[0m",
      "\u001b[0;31mTimeoutException\u001b[0m                          Traceback (most recent call last)",
      "Cell \u001b[0;32mIn[9], line 36\u001b[0m\n\u001b[1;32m     33\u001b[0m time\u001b[38;5;241m.\u001b[39msleep(\u001b[38;5;241m5\u001b[39m)\n\u001b[1;32m     35\u001b[0m \u001b[38;5;66;03m# Wait for dynamic content\u001b[39;00m\n\u001b[0;32m---> 36\u001b[0m WebDriverWait(driver, \u001b[38;5;241m40\u001b[39m)\u001b[38;5;241m.\u001b[39muntil(\n\u001b[1;32m     37\u001b[0m     EC\u001b[38;5;241m.\u001b[39mpresence_of_element_located((By\u001b[38;5;241m.\u001b[39mCLASS_NAME, \u001b[38;5;124m\"\u001b[39m\u001b[38;5;124mproduct-base\u001b[39m\u001b[38;5;124m\"\u001b[39m))\n\u001b[1;32m     38\u001b[0m )\n\u001b[1;32m     39\u001b[0m html \u001b[38;5;241m=\u001b[39m driver\u001b[38;5;241m.\u001b[39mpage_source\n",
      "File \u001b[0;32m/opt/anaconda3/envs/project/lib/python3.12/site-packages/selenium/webdriver/support/wait.py:138\u001b[0m, in \u001b[0;36mWebDriverWait.until\u001b[0;34m(self, method, message)\u001b[0m\n\u001b[1;32m    136\u001b[0m         \u001b[38;5;28;01mbreak\u001b[39;00m\n\u001b[1;32m    137\u001b[0m     time\u001b[38;5;241m.\u001b[39msleep(\u001b[38;5;28mself\u001b[39m\u001b[38;5;241m.\u001b[39m_poll)\n\u001b[0;32m--> 138\u001b[0m \u001b[38;5;28;01mraise\u001b[39;00m TimeoutException(message, screen, stacktrace)\n",
      "\u001b[0;31mTimeoutException\u001b[0m: Message: \nStacktrace:\n0   chromedriver                        0x0000000104994c20 cxxbridge1$str$ptr + 2747652\n1   chromedriver                        0x000000010498cb20 cxxbridge1$str$ptr + 2714628\n2   chromedriver                        0x00000001044d50c8 cxxbridge1$string$len + 90536\n3   chromedriver                        0x000000010451c618 cxxbridge1$string$len + 382712\n4   chromedriver                        0x000000010455d99c cxxbridge1$string$len + 649852\n5   chromedriver                        0x0000000104510934 cxxbridge1$string$len + 334356\n6   chromedriver                        0x000000010495788c cxxbridge1$str$ptr + 2496880\n7   chromedriver                        0x000000010495aab8 cxxbridge1$str$ptr + 2509724\n8   chromedriver                        0x0000000104938510 cxxbridge1$str$ptr + 2369012\n9   chromedriver                        0x000000010495b360 cxxbridge1$str$ptr + 2511940\n10  chromedriver                        0x0000000104929610 cxxbridge1$str$ptr + 2307828\n11  chromedriver                        0x000000010497b230 cxxbridge1$str$ptr + 2642708\n12  chromedriver                        0x000000010497b3bc cxxbridge1$str$ptr + 2643104\n13  chromedriver                        0x000000010498c76c cxxbridge1$str$ptr + 2713680\n14  libsystem_pthread.dylib             0x0000000185bbfc0c _pthread_start + 136\n15  libsystem_pthread.dylib             0x0000000185bbab80 thread_start + 8\n"
     ]
    }
   ],
   "source": [
    "from selenium import webdriver\n",
    "from selenium.webdriver.chrome.options import Options\n",
    "from selenium.webdriver.common.by import By\n",
    "from selenium.webdriver.support.ui import WebDriverWait\n",
    "from selenium.webdriver.support import expected_conditions as EC\n",
    "import time\n",
    "\n",
    "# ---- Selenium setup ----\n",
    "options = Options()\n",
    "options.add_argument(\"start-maximized\")\n",
    "options.add_argument(\"user-agent=Mozilla/5.0 (Windows NT 10.0; Win64; x64)...\")\n",
    "options.add_argument(\"--headless\")\n",
    "options.add_argument(\"--no-sandbox\")\n",
    "options.add_argument(\"--disable-dev-shm-usage\")\n",
    "\n",
    "driver = webdriver.Chrome(options=options)\n",
    "\n",
    "# ---- Category list (add as many as you want) ----\n",
    "categories = {\n",
    "    \"women-dresses\": \"https://www.myntra.com/women-dresses\",\n",
    "    \"women-kurtis\": \"https://www.myntra.com/women-kurtis\",\n",
    "    \"men-shoes\": \"https://www.myntra.com/men-shoes\",\n",
    "    \"women-tops\": \"https://www.myntra.com/women-tops\",\n",
    "    # add more categories here\n",
    "}\n",
    "\n",
    "# ---- Example: scrape the first category for now ----\n",
    "for cat_name, url in categories.items():\n",
    "    print(f\"Scraping category: {cat_name} from {url}\")\n",
    "    \n",
    "    driver.get(url)\n",
    "    driver.execute_script(\"window.scrollTo(0, document.body.scrollHeight);\")\n",
    "    time.sleep(5)\n",
    "\n",
    "    # Wait for dynamic content\n",
    "    WebDriverWait(driver, 40).until(\n",
    "        EC.presence_of_element_located((By.CLASS_NAME, \"product-base\"))\n",
    "    )\n",
    "    html = driver.page_source\n",
    "\n",
    "    # TODO: parse products + save to CSV (next block)\n",
    "    \n"
   ]
  },
  {
   "cell_type": "code",
   "execution_count": null,
   "id": "dad138a2",
   "metadata": {},
   "outputs": [
    {
     "name": "stdout",
     "output_type": "stream",
     "text": [
      "Scraping category: women-dresses from https://www.myntra.com/women-dresses\n"
     ]
    },
    {
     "ename": "TimeoutException",
     "evalue": "Message: \nStacktrace:\n0   chromedriver                        0x00000001007b4c20 cxxbridge1$str$ptr + 2747652\n1   chromedriver                        0x00000001007acb20 cxxbridge1$str$ptr + 2714628\n2   chromedriver                        0x00000001002f50c8 cxxbridge1$string$len + 90536\n3   chromedriver                        0x000000010033c618 cxxbridge1$string$len + 382712\n4   chromedriver                        0x000000010037d99c cxxbridge1$string$len + 649852\n5   chromedriver                        0x0000000100330934 cxxbridge1$string$len + 334356\n6   chromedriver                        0x000000010077788c cxxbridge1$str$ptr + 2496880\n7   chromedriver                        0x000000010077aab8 cxxbridge1$str$ptr + 2509724\n8   chromedriver                        0x0000000100758510 cxxbridge1$str$ptr + 2369012\n9   chromedriver                        0x000000010077b360 cxxbridge1$str$ptr + 2511940\n10  chromedriver                        0x0000000100749610 cxxbridge1$str$ptr + 2307828\n11  chromedriver                        0x000000010079b230 cxxbridge1$str$ptr + 2642708\n12  chromedriver                        0x000000010079b3bc cxxbridge1$str$ptr + 2643104\n13  chromedriver                        0x00000001007ac76c cxxbridge1$str$ptr + 2713680\n14  libsystem_pthread.dylib             0x0000000185bbfc0c _pthread_start + 136\n15  libsystem_pthread.dylib             0x0000000185bbab80 thread_start + 8\n",
     "output_type": "error",
     "traceback": [
      "\u001b[0;31m---------------------------------------------------------------------------\u001b[0m",
      "\u001b[0;31mTimeoutException\u001b[0m                          Traceback (most recent call last)",
      "Cell \u001b[0;32mIn[3], line 10\u001b[0m\n\u001b[1;32m      7\u001b[0m driver\u001b[38;5;241m.\u001b[39mexecute_script(\u001b[38;5;124m\"\u001b[39m\u001b[38;5;124mwindow.scrollTo(0, document.body.scrollHeight);\u001b[39m\u001b[38;5;124m\"\u001b[39m)\n\u001b[1;32m      8\u001b[0m time\u001b[38;5;241m.\u001b[39msleep(\u001b[38;5;241m5\u001b[39m)\n\u001b[0;32m---> 10\u001b[0m WebDriverWait(driver, \u001b[38;5;241m10\u001b[39m)\u001b[38;5;241m.\u001b[39muntil(\n\u001b[1;32m     11\u001b[0m     EC\u001b[38;5;241m.\u001b[39mpresence_of_element_located((By\u001b[38;5;241m.\u001b[39mCLASS_NAME, \u001b[38;5;124m\"\u001b[39m\u001b[38;5;124mproduct-base\u001b[39m\u001b[38;5;124m\"\u001b[39m))\n\u001b[1;32m     12\u001b[0m )\n\u001b[1;32m     13\u001b[0m html \u001b[38;5;241m=\u001b[39m driver\u001b[38;5;241m.\u001b[39mpage_source\n\u001b[1;32m     15\u001b[0m \u001b[38;5;66;03m# ---- Parse the HTML for this category ----\u001b[39;00m\n",
      "File \u001b[0;32m/opt/anaconda3/envs/project/lib/python3.12/site-packages/selenium/webdriver/support/wait.py:138\u001b[0m, in \u001b[0;36mWebDriverWait.until\u001b[0;34m(self, method, message)\u001b[0m\n\u001b[1;32m    136\u001b[0m         \u001b[38;5;28;01mbreak\u001b[39;00m\n\u001b[1;32m    137\u001b[0m     time\u001b[38;5;241m.\u001b[39msleep(\u001b[38;5;28mself\u001b[39m\u001b[38;5;241m.\u001b[39m_poll)\n\u001b[0;32m--> 138\u001b[0m \u001b[38;5;28;01mraise\u001b[39;00m TimeoutException(message, screen, stacktrace)\n",
      "\u001b[0;31mTimeoutException\u001b[0m: Message: \nStacktrace:\n0   chromedriver                        0x00000001007b4c20 cxxbridge1$str$ptr + 2747652\n1   chromedriver                        0x00000001007acb20 cxxbridge1$str$ptr + 2714628\n2   chromedriver                        0x00000001002f50c8 cxxbridge1$string$len + 90536\n3   chromedriver                        0x000000010033c618 cxxbridge1$string$len + 382712\n4   chromedriver                        0x000000010037d99c cxxbridge1$string$len + 649852\n5   chromedriver                        0x0000000100330934 cxxbridge1$string$len + 334356\n6   chromedriver                        0x000000010077788c cxxbridge1$str$ptr + 2496880\n7   chromedriver                        0x000000010077aab8 cxxbridge1$str$ptr + 2509724\n8   chromedriver                        0x0000000100758510 cxxbridge1$str$ptr + 2369012\n9   chromedriver                        0x000000010077b360 cxxbridge1$str$ptr + 2511940\n10  chromedriver                        0x0000000100749610 cxxbridge1$str$ptr + 2307828\n11  chromedriver                        0x000000010079b230 cxxbridge1$str$ptr + 2642708\n12  chromedriver                        0x000000010079b3bc cxxbridge1$str$ptr + 2643104\n13  chromedriver                        0x00000001007ac76c cxxbridge1$str$ptr + 2713680\n14  libsystem_pthread.dylib             0x0000000185bbfc0c _pthread_start + 136\n15  libsystem_pthread.dylib             0x0000000185bbab80 thread_start + 8\n"
     ]
    }
   ],
   "source": [
    "from bs4 import BeautifulSoup\n",
    "\n",
    "for cat_name, url in categories.items():\n",
    "    print(f\"Scraping category: {cat_name} from {url}\")\n",
    "    \n",
    "    driver.get(url)\n",
    "    driver.execute_script(\"window.scrollTo(0, document.body.scrollHeight);\")\n",
    "    time.sleep(5)\n",
    "\n",
    "    WebDriverWait(driver, 10).until(\n",
    "        EC.presence_of_element_located((By.CLASS_NAME, \"product-base\"))\n",
    "    )\n",
    "    html = driver.page_source\n",
    "    \n",
    "    # ---- Parse the HTML for this category ----\n",
    "    soup = BeautifulSoup(html, 'html.parser')\n",
    "    \n",
    "    # TODO: extract product info + save\n",
    "    # Example: products = soup.find_all(\"li\", {\"class\": \"product-base\"})\n",
    "    \n",
    "    break  # remove later when you’re ready to scrape all categories\n"
   ]
  },
  {
   "cell_type": "markdown",
   "id": "3ad32768",
   "metadata": {},
   "source": [
    "Extracting Product Information"
   ]
  },
  {
   "cell_type": "code",
   "execution_count": null,
   "id": "ca563656",
   "metadata": {},
   "outputs": [
    {
     "name": "stdout",
     "output_type": "stream",
     "text": [
      "Found 50 products\n"
     ]
    }
   ],
   "source": [
    "all_data = []  # master list for everything\n",
    "\n",
    "for cat_name, url in categories.items():\n",
    "    print(f\"\\nScraping category: {cat_name} from {url}\")\n",
    "    \n",
    "    driver.get(url)\n",
    "    driver.execute_script(\"window.scrollTo(0, document.body.scrollHeight);\")\n",
    "    time.sleep(5)\n",
    "\n",
    "    WebDriverWait(driver, 10).until(\n",
    "        EC.presence_of_element_located((By.CLASS_NAME, \"product-base\"))\n",
    "    )\n",
    "    html = driver.page_source\n",
    "    soup = BeautifulSoup(html, 'html.parser')\n",
    "\n",
    "    products = soup.find_all('li', {'class': 'product-base'})\n",
    "    print(f\"Found {len(products)} products in {cat_name}\")\n",
    "\n",
    "    # Scraped data for this category\n",
    "    data = []\n",
    "\n",
    "    for item in products:\n",
    "        brand = item.find('h3', {'class': 'product-brand'}).text.strip()\n",
    "        name = item.find('h4', {'class': 'product-product'}).text.strip()\n",
    "\n",
    "        # Price details\n",
    "        price_elements = item.find('div', {'class': 'product-price'})\n",
    "        prices = price_elements.find_all('span') if price_elements else []\n",
    "        discounted_price = prices[0].text.strip() if len(prices) > 0 else None\n",
    "        original_price = prices[1].text.strip() if len(prices) > 1 else None\n",
    "        discount = prices[2].text.strip() if len(prices) > 2 else None\n",
    "\n",
    "        # Product Link\n",
    "        link_tag = item.find('a', href=True)\n",
    "        product_link = \"https://www.myntra.com\" + link_tag['href'] if link_tag else None\n",
    "\n",
    "        data.append({\n",
    "            'Category': cat_name,\n",
    "            'Brand': brand,\n",
    "            'Name': name,\n",
    "            'Discounted Price': discounted_price,\n",
    "            'Original Price': original_price,\n",
    "            'Discount': discount,\n",
    "            'Link': product_link\n",
    "        })\n",
    "\n",
    "    # Add this category's data to master list\n",
    "    all_data.extend(data)\n",
    "\n",
    "    # Save category CSV immediately (optional)\n",
    "    pd.DataFrame(data).to_csv(f\"myntra_{cat_name}.csv\", index=False)\n",
    "    print(f\"Saved {cat_name} to myntra_{cat_name}.csv\")\n"
   ]
  },
  {
   "cell_type": "code",
   "execution_count": null,
   "id": "40c2d991",
   "metadata": {},
   "outputs": [
    {
     "name": "stdout",
     "output_type": "stream",
     "text": [
      "     Brand                                 Name Discounted Price  \\\n",
      "0   Claura        Women  Fit & Flare Midi Dress  Rs. 724Rs. 2899   \n",
      "1   anayna           Women Fit & Flared Dresses  Rs. 883Rs. 3840   \n",
      "2    MANGO         Round Neck Midi A-Line Dress         Rs. 5790   \n",
      "3   Stylum  Floral Print Fit & Flare Maxi Dress  Rs. 739Rs. 2899   \n",
      "4  Varanga                    A-Line Maxi Dress  Rs. 749Rs. 2999   \n",
      "\n",
      "  Original Price  Discount                                               Link  \n",
      "0        Rs. 724  Rs. 2899  https://www.myntra.comdresses/claura/claura-wo...  \n",
      "1        Rs. 883  Rs. 3840  https://www.myntra.comdresses/anayna/anayna-wo...  \n",
      "2           None      None  https://www.myntra.comdresses/mango/mango-roun...  \n",
      "3        Rs. 739  Rs. 2899  https://www.myntra.comdresses/stylum/stylum-fl...  \n",
      "4        Rs. 749  Rs. 2999  https://www.myntra.comdresses/varanga/varanga-...  \n"
     ]
    }
   ],
   "source": [
    "import pandas as pd\n",
    "\n",
    "# Example: assume `all_data` is a dict with keys = category names, values = lists of product dicts\n",
    "# all_data = {\n",
    "#     \"womens_dresses\": data_for_dresses,\n",
    "#     \"mens_shoes\": data_for_shoes,\n",
    "#     ...\n",
    "# }\n",
    "\n",
    "dfs = {}  # store DataFrames by category\n",
    "for category, data in all_data.items():\n",
    "    dfs[category] = pd.DataFrame(data)\n",
    "    print(f\"\\nPreview for {category}:\")\n",
    "    print(dfs[category].head())\n"
   ]
  },
  {
   "cell_type": "markdown",
   "id": "44dc6c35",
   "metadata": {},
   "source": [
    "Cleaning the Data"
   ]
  },
  {
   "cell_type": "code",
   "execution_count": null,
   "id": "e03cc281",
   "metadata": {},
   "outputs": [
    {
     "name": "stdout",
     "output_type": "stream",
     "text": [
      "     Brand                                 Name  \\\n",
      "0   Claura        Women  Fit & Flare Midi Dress   \n",
      "1   anayna           Women Fit & Flared Dresses   \n",
      "2    MANGO         Round Neck Midi A-Line Dress   \n",
      "3   Stylum  Floral Print Fit & Flare Maxi Dress   \n",
      "4  Varanga                    A-Line Maxi Dress   \n",
      "\n",
      "                                                Link  Discounted_Price  \\\n",
      "0  https://www.myntra.com/dresses/claura/claura-w...             724.0   \n",
      "1  https://www.myntra.com/dresses/anayna/anayna-w...             883.0   \n",
      "2  https://www.myntra.com/dresses/mango/mango-rou...            5790.0   \n",
      "3  https://www.myntra.com/dresses/stylum/stylum-f...             739.0   \n",
      "4  https://www.myntra.com/dresses/varanga/varanga...             749.0   \n",
      "\n",
      "   Original_Price  Discount_Percentage  \n",
      "0          2899.0                 75.0  \n",
      "1          3840.0                 77.0  \n",
      "2             NaN                  NaN  \n",
      "3          2899.0                 74.5  \n",
      "4          2999.0                 75.0  \n"
     ]
    }
   ],
   "source": [
    "import re\n",
    "\n",
    "def extract_prices(price_str):\n",
    "    if pd.isna(price_str):\n",
    "        return None, None\n",
    "    prices = re.findall(r'Rs\\.?\\s?(\\d+)', price_str.replace(\",\", \"\"))\n",
    "    if len(prices) == 2:\n",
    "        return int(prices[0]), int(prices[1])\n",
    "    elif len(prices) == 1:\n",
    "        return int(prices[0]), None\n",
    "    else:\n",
    "        return None, None\n",
    "\n",
    "cleaned_dfs = {}\n",
    "\n",
    "for category, df in dfs.items():\n",
    "    print(f\"\\nCleaning data for {category}...\")\n",
    "    \n",
    "    # Strip extra spaces from column names\n",
    "    df.columns = df.columns.str.strip()\n",
    "    \n",
    "    # Split discounted and original prices\n",
    "    df[['Discounted_Price', 'Original_Price']] = df['Discounted Price'].apply(\n",
    "        lambda x: pd.Series(extract_prices(x))\n",
    "    )\n",
    "    \n",
    "    # Fix broken URLs (catching multiple cases if needed)\n",
    "    df['Link'] = df['Link'].str.replace(\"www.myntra.comdresses\", \"www.myntra.com/dresses\", regex=False)\n",
    "    \n",
    "    # Calculate discount percentage safely\n",
    "    df['Discount_Percentage'] = (\n",
    "        (df['Original_Price'] - df['Discounted_Price']) / df['Original_Price'] * 100\n",
    "    ).round(1)\n",
    "    \n",
    "    # Drop old columns\n",
    "    df = df.drop(columns=['Discounted Price', 'Original Price', 'Discount'])\n",
    "    \n",
    "    # Drop rows with missing prices\n",
    "    df = df.dropna(subset=['Discounted_Price'])\n",
    "    \n",
    "    # Reset index\n",
    "    df = df.reset_index(drop=True)\n",
    "    \n",
    "    cleaned_dfs[category] = df\n",
    "    print(df.head())\n"
   ]
  },
  {
   "cell_type": "code",
   "execution_count": null,
   "id": "1893c012",
   "metadata": {},
   "outputs": [],
   "source": [
    "import os  \n",
    "\n",
    "for category, data in category_data.items():  \n",
    "    df = pd.DataFrame(data)\n",
    "    file_path = os.path.join(output_dir, f\"myntra_{category}.csv\")\n",
    "    df.to_csv(file_path, index=False)\n",
    "    print(f\"Saved {category} → {file_path}\")"
   ]
  }
 ],
 "metadata": {
  "kernelspec": {
   "display_name": "project",
   "language": "python",
   "name": "python3"
  },
  "language_info": {
   "codemirror_mode": {
    "name": "ipython",
    "version": 3
   },
   "file_extension": ".py",
   "mimetype": "text/x-python",
   "name": "python",
   "nbconvert_exporter": "python",
   "pygments_lexer": "ipython3",
   "version": "3.12.9"
  }
 },
 "nbformat": 4,
 "nbformat_minor": 5
}
